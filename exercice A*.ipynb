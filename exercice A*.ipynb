{
 "cells": [
  {
   "cell_type": "code",
   "execution_count": 1,
   "id": "initial_id",
   "metadata": {
    "collapsed": true,
    "ExecuteTime": {
     "end_time": "2023-10-26T15:35:25.666095Z",
     "start_time": "2023-10-26T15:35:25.513368Z"
    }
   },
   "outputs": [],
   "source": [
    "from random import random\n",
    "from functools import reduce\n",
    "from collections import namedtuple\n",
    "from math import ceil\n",
    "from queue import PriorityQueue, SimpleQueue, LifoQueue\n",
    "\n",
    "import numpy as np\n",
    "from tqdm.auto import tqdm"
   ]
  },
  {
   "cell_type": "code",
   "execution_count": 2,
   "outputs": [],
   "source": [
    "State = namedtuple('State', ['taken', 'not_taken'])\n",
    "\n",
    "def covered(state):\n",
    "    return reduce(\n",
    "        np.logical_or,\n",
    "        [SETS[i] for i in state.taken],\n",
    "        np.array([False for _ in range(PROBLEM_SIZE)]),\n",
    "    )\n",
    "\n",
    "def goal_check(state):\n",
    "    return np.all(covered(state))"
   ],
   "metadata": {
    "collapsed": false,
    "ExecuteTime": {
     "end_time": "2023-10-26T15:35:25.674392Z",
     "start_time": "2023-10-26T15:35:25.672047Z"
    }
   },
   "id": "ad4829160d8d34e3"
  },
  {
   "cell_type": "code",
   "execution_count": 3,
   "outputs": [],
   "source": [
    "PROBLEM_SIZE = 20\n",
    "NUM_SETS = 100\n",
    "SETS = tuple(\n",
    "    np.array([random() < 0.2 for _ in range(PROBLEM_SIZE)])\n",
    "    for _ in range(NUM_SETS)\n",
    ")\n",
    "assert goal_check(\n",
    "    State(set(range(NUM_SETS)), set())\n",
    "), \"Probelm not solvable\""
   ],
   "metadata": {
    "collapsed": false,
    "ExecuteTime": {
     "end_time": "2023-10-26T15:35:25.680664Z",
     "start_time": "2023-10-26T15:35:25.677558Z"
    }
   },
   "id": "42484238f3a28b33"
  },
  {
   "cell_type": "code",
   "execution_count": 4,
   "outputs": [],
   "source": [
    "def h(state):\n",
    "    largest_set_size = max(sum(s) for s in SETS)\n",
    "    missing_size = PROBLEM_SIZE - sum(covered(state))\n",
    "    optimistic_estimate = ceil(missing_size/largest_set_size)\n",
    "    return optimistic_estimate\n",
    "\n",
    "def h2(state):\n",
    "    already_covered = covered(state)\n",
    "    if np.all(already_covered):\n",
    "        return 0\n",
    "    largest_set_size = max(sum(np.logical_and(s, np.logical_not(already_covered))) for s in SETS)\n",
    "    missing_size = PROBLEM_SIZE - sum(already_covered)\n",
    "    optimistic_estimate = ceil(missing_size/largest_set_size)\n",
    "    return optimistic_estimate\n",
    "\n",
    "def h3(state):\n",
    "    already_covered = covered(state)\n",
    "    if np.all(already_covered):\n",
    "        return 0\n",
    "    missing_size = PROBLEM_SIZE - sum(already_covered)\n",
    "    candidates = sorted((sum(np.logical_and(s, np.logical_not(already_covered))) for s in SETS), reverse=True)\n",
    "    taken = 1\n",
    "    while sum(candidates[:taken]) < missing_size:\n",
    "        taken += 1\n",
    "    return taken\n",
    "\n",
    "#that the function that I made myself\n",
    "# I have  just though about the H3 of the teacher for the taken var\n",
    "# the heuristic just give less evaluation in situation where the difference in missing size is not increasing\n",
    "# so the algo will focus a bit more first on the set that appear the best first \n",
    "# should be admissible because for all n€N, h4(n) <= h3(n)\n",
    "def h4(state):\n",
    "    already_covered = covered(state)\n",
    "    if np.all(already_covered):\n",
    "        return 0\n",
    "    missing_size = PROBLEM_SIZE - sum(already_covered)\n",
    "    candidates = sorted((sum(np.logical_and(s, np.logical_not(already_covered))) for s in SETS), reverse=True)\n",
    "    heuri = 1\n",
    "    taken = 1\n",
    "    best_candidate_sum = sum(candidates[:taken])\n",
    "    while sum(candidates[:taken]) < missing_size:\n",
    "        if sum(candidates[:taken]) > best_candidate_sum:\n",
    "            best_candidate_sum = sum(candidates[:taken])\n",
    "            heuri += 1\n",
    "        if sum(candidates[:taken]) == best_candidate_sum:\n",
    "            heuri +=0.9\n",
    "        taken += 1\n",
    "    return heuri\n",
    "\n",
    "# here I give weigth to candiate < best candidate but I give sligter less weigth \n",
    "# seem to be more effective than h3 and still admisible \n",
    "def h5(state):\n",
    "    already_covered = covered(state)\n",
    "    if np.all(already_covered):\n",
    "        return 0\n",
    "    missing_size = PROBLEM_SIZE - sum(already_covered)\n",
    "    candidates = sorted((sum(np.logical_and(s, np.logical_not(already_covered))) for s in SETS), reverse=True)\n",
    "    heuri = 1\n",
    "    taken = 1\n",
    "    best_candidate_sum = sum(candidates[:taken])\n",
    "    while sum(candidates[:taken]) < missing_size:\n",
    "        if sum(candidates[:taken]) > best_candidate_sum:\n",
    "            best_candidate_sum = sum(candidates[:taken])\n",
    "            heuri += 1\n",
    "        if sum(candidates[:taken]) == best_candidate_sum:\n",
    "            heuri +=1\n",
    "        if sum(candidates[:taken]) < best_candidate_sum:\n",
    "            heuri +=0.8\n",
    "        taken += 1\n",
    "    return heuri\n",
    "  \n",
    "  \n",
    "def f(state):\n",
    "    return len(state.taken) + h5(state)\n",
    "def fref(state):\n",
    "    return len(state.taken) + h3(state)"
   ],
   "metadata": {
    "collapsed": false,
    "ExecuteTime": {
     "end_time": "2023-10-26T15:35:25.694719Z",
     "start_time": "2023-10-26T15:35:25.690627Z"
    }
   },
   "id": "84c52985f2cf87c9"
  },
  {
   "cell_type": "code",
   "execution_count": 5,
   "outputs": [
    {
     "data": {
      "text/plain": "0it [00:00, ?it/s]",
      "application/vnd.jupyter.widget-view+json": {
       "version_major": 2,
       "version_minor": 0,
       "model_id": "28298ed398f14ba88299f3896d78ce25"
      }
     },
     "metadata": {},
     "output_type": "display_data"
    },
    {
     "name": "stdout",
     "output_type": "stream",
     "text": [
      "h3 Solved in 595 steps (4 tiles)\n"
     ]
    }
   ],
   "source": [
    "frontier = PriorityQueue()\n",
    "state = State(set(), set(range(NUM_SETS)))\n",
    "frontier.put((fref(state), state))\n",
    "\n",
    "counter = 0\n",
    "_, current_state = frontier.get()\n",
    "with tqdm(total=None) as pbar:\n",
    "    while not goal_check(current_state):\n",
    "        counter += 1\n",
    "        for action in current_state[1]:\n",
    "            new_state = State(\n",
    "                current_state.taken ^ {action},\n",
    "                current_state.not_taken ^ {action},\n",
    "            )\n",
    "            frontier.put((fref(new_state), new_state))\n",
    "        _, current_state = frontier.get()\n",
    "        pbar.update(1)\n",
    "\n",
    "print(f\"h3 Solved in {counter:,} steps ({len(current_state.taken)} tiles)\")"
   ],
   "metadata": {
    "collapsed": false,
    "ExecuteTime": {
     "end_time": "2023-10-26T15:35:54.597257Z",
     "start_time": "2023-10-26T15:35:25.700529Z"
    }
   },
   "id": "208fe2df377c62e"
  },
  {
   "cell_type": "code",
   "execution_count": 6,
   "outputs": [
    {
     "data": {
      "text/plain": "0it [00:00, ?it/s]",
      "application/vnd.jupyter.widget-view+json": {
       "version_major": 2,
       "version_minor": 0,
       "model_id": "e10098b11b22413d9fd8ad592efee01a"
      }
     },
     "metadata": {},
     "output_type": "display_data"
    },
    {
     "name": "stdout",
     "output_type": "stream",
     "text": [
      "h5 Solved in 263 steps (4 tiles)\n"
     ]
    }
   ],
   "source": [
    "frontier = PriorityQueue()\n",
    "state = State(set(), set(range(NUM_SETS)))\n",
    "frontier.put((f(state), state))\n",
    "\n",
    "counter = 0\n",
    "_, current_state = frontier.get()\n",
    "with tqdm(total=None) as pbar:\n",
    "    while not goal_check(current_state):\n",
    "        counter += 1\n",
    "        for action in current_state[1]:\n",
    "            new_state = State(\n",
    "                current_state.taken ^ {action},\n",
    "                current_state.not_taken ^ {action},\n",
    "            )\n",
    "            frontier.put((f(new_state), new_state))\n",
    "        _, current_state = frontier.get()\n",
    "        pbar.update(1)\n",
    "\n",
    "print(f\"h5 Solved in {counter:,} steps ({len(current_state.taken)} tiles)\")"
   ],
   "metadata": {
    "collapsed": false,
    "ExecuteTime": {
     "end_time": "2023-10-26T15:36:06.877890Z",
     "start_time": "2023-10-26T15:35:54.722075Z"
    }
   },
   "id": "c790a602b13e7373"
  }
 ],
 "metadata": {
  "kernelspec": {
   "display_name": "Python 3",
   "language": "python",
   "name": "python3"
  },
  "language_info": {
   "codemirror_mode": {
    "name": "ipython",
    "version": 2
   },
   "file_extension": ".py",
   "mimetype": "text/x-python",
   "name": "python",
   "nbconvert_exporter": "python",
   "pygments_lexer": "ipython2",
   "version": "2.7.6"
  }
 },
 "nbformat": 4,
 "nbformat_minor": 5
}
