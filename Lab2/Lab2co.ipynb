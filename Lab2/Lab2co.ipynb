{
 "cells": [
  {
   "cell_type": "code",
   "execution_count": 135,
   "metadata": {
    "ExecuteTime": {
     "end_time": "2023-11-17T21:25:48.756397Z",
     "start_time": "2023-11-17T21:25:48.708679Z"
    }
   },
   "outputs": [],
   "source": [
    "from random import random, choice, randint\n",
    "from collections import namedtuple\n",
    "from pprint import pprint, pformat\n",
    "import random\n",
    "import numpy as np\n",
    "from copy import copy, deepcopy\n",
    "import logging\n",
    "from dataclasses import dataclass\n"
   ]
  },
  {
   "cell_type": "code",
   "execution_count": 136,
   "metadata": {
    "ExecuteTime": {
     "end_time": "2023-11-17T21:25:48.767549Z",
     "start_time": "2023-11-17T21:25:48.713546Z"
    }
   },
   "outputs": [],
   "source": [
    "#  code same as teacher\n",
    "Nimply = namedtuple(\"Nimply\", \"row, num_objects\")\n"
   ]
  },
  {
   "cell_type": "code",
   "execution_count": 137,
   "metadata": {
    "ExecuteTime": {
     "end_time": "2023-11-17T21:25:48.768780Z",
     "start_time": "2023-11-17T21:25:48.719913Z"
    }
   },
   "outputs": [],
   "source": [
    "class Nim:\n",
    "    def __init__(self, num_rows: int, k: int = None) -> None:\n",
    "        self._rows = [i * 2 + 1 for i in range(num_rows)]\n",
    "        self._k = k\n",
    "\n",
    "    def __bool__(self):\n",
    "        return sum(self._rows) > 0\n",
    "\n",
    "    def __str__(self):\n",
    "        return \"<\" + \" \".join(str(_) for _ in self._rows) + \">\"\n",
    "\n",
    "    @property\n",
    "    def rows(self) -> tuple:\n",
    "        return tuple(self._rows)\n",
    "\n",
    "    def nimming(self, ply: Nimply) -> None:\n",
    "        row, num_objects = ply\n",
    "        assert self._rows[row] >= num_objects\n",
    "        assert self._k is None or num_objects <= self._k\n",
    "        self._rows[row] -= num_objects\n"
   ]
  },
  {
   "cell_type": "code",
   "execution_count": 138,
   "metadata": {
    "ExecuteTime": {
     "end_time": "2023-11-17T21:25:48.790845Z",
     "start_time": "2023-11-17T21:25:48.723410Z"
    }
   },
   "outputs": [],
   "source": [
    "def pure_random(state: Nim) -> Nimply:\n",
    "    \"\"\"A completely random move\"\"\"\n",
    "    row = random.choice([r for r, c in enumerate(state.rows) if c > 0])\n",
    "    num_objects = random.randint(1, state.rows[row])\n",
    "    return Nimply(row, num_objects)\n"
   ]
  },
  {
   "cell_type": "code",
   "execution_count": 139,
   "metadata": {
    "ExecuteTime": {
     "end_time": "2023-11-17T21:25:48.791989Z",
     "start_time": "2023-11-17T21:25:48.730093Z"
    }
   },
   "outputs": [],
   "source": [
    "def gabriele(state: Nim) -> Nimply:\n",
    "    \"\"\"Pick always the maximum possible number of the lowest row\"\"\"\n",
    "    possible_moves = [(r, o) for r, c in enumerate(state.rows) for o in range(1, c + 1)]\n",
    "    return Nimply(*max(possible_moves, key=lambda m: (-m[0], m[1])))\n"
   ]
  },
  {
   "cell_type": "code",
   "execution_count": 140,
   "metadata": {
    "ExecuteTime": {
     "end_time": "2023-11-17T21:25:48.792668Z",
     "start_time": "2023-11-17T21:25:48.736763Z"
    }
   },
   "outputs": [],
   "source": [
    "import numpy as np\n",
    "\n",
    "\n",
    "def nim_sum(state: Nim) -> int:\n",
    "    tmp = np.array([tuple(int(x) for x in f\"{c:032b}\") for c in state.rows])\n",
    "    xor = tmp.sum(axis=0) % 2\n",
    "    return int(\"\".join(str(_) for _ in xor), base=2)\n",
    "\n",
    "\n",
    "def analize(raw: Nim) -> dict:\n",
    "    cooked = dict()\n",
    "    cooked[\"possible_moves\"] = dict()\n",
    "    for ply in (Nimply(r, o) for r, c in enumerate(raw.rows) for o in range(1, c + 1)):\n",
    "        tmp = deepcopy(raw)\n",
    "        tmp.nimming(ply)\n",
    "        cooked[\"possible_moves\"][ply] = nim_sum(tmp)\n",
    "    return cooked\n",
    "\n",
    "\n",
    "def optimal(state: Nim) -> Nimply:\n",
    "    analysis = analize(state)\n",
    "    logging.debug(f\"analysis:\\n{pformat(analysis)}\")\n",
    "    spicy_moves = [ply for ply, ns in analysis[\"possible_moves\"].items() if ns != 0]\n",
    "    if not spicy_moves:\n",
    "        spicy_moves = list(analysis[\"possible_moves\"].keys())\n",
    "    ply = random.choice(spicy_moves)\n",
    "    return ply\n"
   ]
  },
  {
   "cell_type": "code",
   "execution_count": 141,
   "metadata": {
    "ExecuteTime": {
     "end_time": "2023-11-17T21:25:48.792775Z",
     "start_time": "2023-11-17T21:25:48.739942Z"
    }
   },
   "outputs": [],
   "source": [
    "#change start\n",
    "#asked paul-raphael about his code and see that I was in the wrong direction, so I took his code and I tried to modifie this. The concept is that this ea is used to create a list of weigth which is used to choose a strategy to apply each turn \n",
    "\n",
    "POPULATION_SIZE = 40\n",
    "OFFSPRING_SIZE = 15\n",
    "TOURNAMENT_SIZE = 2\n",
    "MUTATION_PROBABILITY = .80\n",
    " #if there are more strategie rulse size increase \n",
    "list_strategies= [pure_random, gabriele, optimal]\n",
    "#the number of strategie\n",
    "RULES_SIZE= len(list_strategies)\n",
    "size_game=4\n",
    "\n",
    "\n",
    "num_generations=200\n"
   ]
  },
  {
   "cell_type": "code",
   "execution_count": 142,
   "metadata": {
    "ExecuteTime": {
     "end_time": "2023-11-17T21:25:48.793188Z",
     "start_time": "2023-11-17T21:25:48.747071Z"
    }
   },
   "outputs": [],
   "source": [
    "\n",
    "\n",
    "@dataclass\n",
    "class Individual:\n",
    "    fitness: float\n",
    "    genotype: []\n",
    "\n",
    "def select_parent(pop):\n",
    "    pool = [choice(pop) for _ in range(TOURNAMENT_SIZE)]\n",
    "    champion = max(pool, key=lambda i: i.fitness)\n",
    "    return champion\n",
    "\n",
    "#mutate def from paul raphael \n",
    "def mutate(individual) ->Individual :     #changes the genotype of the individual by applying a small random change to one of the values\n",
    "    genotype= individual.genotype\n",
    "    # Choose an index to change\n",
    "    index_to_change = random.randint(0, len(genotype) - 1)\n",
    "\n",
    "    # Generate a random value for the change\n",
    "    change = random.uniform(-0.05, 0.05)  # You can adjust the range as needed\n",
    "\n",
    "    # Apply the change to the chosen index\n",
    "    genotype[index_to_change] += change\n",
    "\n",
    "    # Ensure the modified value is between 0 and 1\n",
    "    genotype[index_to_change] = max(0, min(1, genotype[index_to_change]))\n",
    "\n",
    "    # Adjust the other values to maintain the sum equal to 1\n",
    "    total = sum(genotype)\n",
    "    genotype = [value / total for value in genotype]\n",
    "\n",
    "    individual.genotype= genotype\n",
    "    return individual\n",
    "\n"
   ]
  },
  {
   "cell_type": "code",
   "execution_count": 143,
   "metadata": {
    "ExecuteTime": {
     "end_time": "2023-11-17T21:25:48.793376Z",
     "start_time": "2023-11-17T21:25:48.752250Z"
    }
   },
   "outputs": [],
   "source": [
    "def play(first,genotype , strategy_player1):\n",
    "    # Choose the best PossibleMove in the population and play Nim against the pure random strategy\n",
    "    \n",
    "    nim = Nim(size_game)\n",
    "    player = first\n",
    "    while nim:\n",
    "        #here the strat is randomly choose from the weigth of genotype\n",
    "        chosen_strat = random.choices(list_strategies, genotype)[0]\n",
    "        strategy = ( chosen_strat, strategy_player1)\n",
    "        ply = strategy[player](nim)\n",
    "        nim.nimming(ply)\n",
    "        player = 1 - player\n",
    "    \n",
    "    return player\n"
   ]
  },
  {
   "cell_type": "code",
   "execution_count": 144,
   "metadata": {
    "ExecuteTime": {
     "end_time": "2023-11-17T21:25:48.794162Z",
     "start_time": "2023-11-17T21:25:48.756120Z"
    }
   },
   "outputs": [],
   "source": [
    "def fitness(genotype):#returns the rate of winning the game after playing it 'nb_game' times with one same genotype mbut against differents types of opponent's strategies\n",
    "    win=0\n",
    "    first=0\n",
    "    strategies_opponent= list_strategies\n",
    "    nb_game=30\n",
    "    for i in range (nb_game):\n",
    "        opponent= strategies_opponent[i%RULES_SIZE] # A verifier les effets de bords\n",
    "        val= play(first, genotype, opponent)\n",
    "        first=1-first\n",
    "        if val == 0:\n",
    "            win+=1\n",
    "    \n",
    "    win_rate= win/nb_game\n",
    "    return win_rate"
   ]
  },
  {
   "cell_type": "code",
   "execution_count": 202,
   "metadata": {
    "ExecuteTime": {
     "end_time": "2023-11-17T22:30:21.311116Z",
     "start_time": "2023-11-17T22:27:38.035967Z"
    }
   },
   "outputs": [
    {
     "name": "stdout",
     "output_type": "stream",
     "text": [
      "best individual\n",
      "0.4\n",
      "[0.2511338534887735, 0.34388357221788224, 0.4049825742933443]\n"
     ]
    }
   ],
   "source": [
    "def evolved_startegy():\n",
    "    population = [\n",
    "        Individual(\n",
    "            fitness=None,\n",
    "            genotype = np.random.dirichlet(np.ones(RULES_SIZE), size = 1)[0]              \n",
    "        )\n",
    "        for _ in range(POPULATION_SIZE)\n",
    "    ]\n",
    "\n",
    "    for i in population:\n",
    "        i.fitness = fitness(i.genotype)  # Use the fitness function on the nim_move\n",
    "\n",
    "    for generation in range(num_generations):\n",
    "        offspring = list()\n",
    "        for counter in range(OFFSPRING_SIZE):\n",
    "            p1 = select_parent(population)\n",
    "            if random.random() < MUTATION_PROBABILITY:                                  \n",
    "                p1 = mutate(p1)\n",
    "                            \n",
    "            offspring.append(p1)\n",
    "\n",
    "        for i in offspring:\n",
    "            i.fitness = fitness(i.genotype) \n",
    "            \n",
    "        population.extend(offspring)\n",
    "        population.sort(key=lambda i: i.fitness, reverse = True)           \n",
    "        population = population[:POPULATION_SIZE]\n",
    "\n",
    "    # Choose the best individual in the population and return its genotype\n",
    "    print('best individual')\n",
    "    print(population[0].fitness)\n",
    "    print(population[0].genotype)\n",
    "    return population[0].genotype\n",
    "\n",
    "chosen_genotype=evolved_startegy()\n"
   ]
  },
  {
   "cell_type": "markdown",
   "metadata": {},
   "source": [
    "## Oversimplified match"
   ]
  },
  {
   "cell_type": "code",
   "execution_count": 204,
   "metadata": {
    "ExecuteTime": {
     "end_time": "2023-11-17T22:33:13.515351Z",
     "start_time": "2023-11-17T22:33:13.489535Z"
    }
   },
   "outputs": [
    {
     "name": "stderr",
     "output_type": "stream",
     "text": [
      "INFO:root:init : <1 3 5 7>\n",
      "INFO:root:current_geno : [0.2511338534887735, 0.34388357221788224, 0.4049825742933443]\n",
      "INFO:root:ply: player 0 plays Nimply(row=3, num_objects=3)\n",
      "INFO:root:status: <1 3 5 4>\n",
      "INFO:root:ply: player 1 plays Nimply(row=0, num_objects=1)\n",
      "INFO:root:status: <0 3 5 4>\n",
      "INFO:root:ply: player 0 plays Nimply(row=2, num_objects=1)\n",
      "INFO:root:status: <0 3 4 4>\n",
      "INFO:root:ply: player 1 plays Nimply(row=2, num_objects=3)\n",
      "INFO:root:status: <0 3 1 4>\n",
      "INFO:root:ply: player 0 plays Nimply(row=1, num_objects=2)\n",
      "INFO:root:status: <0 1 1 4>\n",
      "INFO:root:ply: player 1 plays Nimply(row=2, num_objects=1)\n",
      "INFO:root:status: <0 1 0 4>\n",
      "INFO:root:ply: player 0 plays Nimply(row=1, num_objects=1)\n",
      "INFO:root:status: <0 0 0 4>\n",
      "INFO:root:ply: player 1 plays Nimply(row=3, num_objects=1)\n",
      "INFO:root:status: <0 0 0 3>\n",
      "INFO:root:ply: player 0 plays Nimply(row=3, num_objects=2)\n",
      "INFO:root:status: <0 0 0 1>\n",
      "INFO:root:ply: player 1 plays Nimply(row=3, num_objects=1)\n",
      "INFO:root:status: <0 0 0 0>\n",
      "INFO:root:status: Player 0 won!\n"
     ]
    }
   ],
   "source": [
    "\n",
    "        \n",
    "logging.getLogger().setLevel(logging.INFO)\n",
    "\n",
    "\n",
    "nim = Nim(size_game)\n",
    "logging.info(f\"init : {nim}\")\n",
    "logging.info(f\"current_geno : {chosen_genotype}\")\n",
    "player = 0\n",
    "while nim:\n",
    "    #here the strat is randomly choose from the weigth of genotype\n",
    "    strategy = (random.choices(list_strategies, chosen_genotype)[0], pure_random)\n",
    "    ply = strategy[player](nim)\n",
    "    logging.info(f\"ply: player {player} plays {ply}\")\n",
    "    nim.nimming(ply)\n",
    "    logging.info(f\"status: {nim}\")\n",
    "    player = 1 - player\n",
    "logging.info(f\"status: Player {player} won!\")\n"
   ]
  }
 ],
 "metadata": {
  "kernelspec": {
   "display_name": "Python 3",
   "language": "python",
   "name": "python3"
  },
  "language_info": {
   "codemirror_mode": {
    "name": "ipython",
    "version": 3
   },
   "file_extension": ".py",
   "mimetype": "text/x-python",
   "name": "python",
   "nbconvert_exporter": "python",
   "pygments_lexer": "ipython3",
   "version": "3.11.6"
  }
 },
 "nbformat": 4,
 "nbformat_minor": 2
}
