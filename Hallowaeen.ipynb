{
 "cells": [
  {
   "cell_type": "code",
   "execution_count": 37,
   "id": "initial_id",
   "metadata": {
    "collapsed": true,
    "ExecuteTime": {
     "end_time": "2023-10-31T13:33:09.136597Z",
     "start_time": "2023-10-31T13:33:09.127924Z"
    }
   },
   "outputs": [],
   "source": [
    "from itertools import product\n",
    "from random import random, randint, shuffle, seed, choice\n",
    "import numpy as np\n",
    "from scipy import sparse\n",
    "from functools import reduce"
   ]
  },
  {
   "cell_type": "code",
   "execution_count": 38,
   "outputs": [],
   "source": [
    "def make_set_covering_problem(num_points, num_sets, density):\n",
    "    \"\"\"Returns a sparse array where rows are sets and columns are the covered items\"\"\"\n",
    "    seed(num_points*2654435761+num_sets+density)\n",
    "    sets = sparse.lil_array((num_sets, num_points), dtype=bool)\n",
    "    for s, p in product(range(num_sets), range(num_points)):\n",
    "        if random() < density:\n",
    "            sets[s, p] = True\n",
    "    for p in range(num_points):\n",
    "        sets[randint(0, num_sets-1), p] = True\n",
    "    return sets"
   ],
   "metadata": {
    "collapsed": false,
    "ExecuteTime": {
     "end_time": "2023-10-31T13:33:09.137131Z",
     "start_time": "2023-10-31T13:33:09.135111Z"
    }
   },
   "id": "90aa883203238650"
  },
  {
   "cell_type": "code",
   "execution_count": 62,
   "outputs": [
    {
     "ename": "NotImplementedError",
     "evalue": "We have not yet implemented 1D sparse slices; please index using explicit indices, e.g. `x[:, [0]]`",
     "output_type": "error",
     "traceback": [
      "\u001B[0;31m---------------------------------------------------------------------------\u001B[0m",
      "\u001B[0;31mNotImplementedError\u001B[0m                       Traceback (most recent call last)",
      "Cell \u001B[0;32mIn[62], line 2\u001B[0m\n\u001B[1;32m      1\u001B[0m x \u001B[38;5;241m=\u001B[39m make_set_covering_problem(\u001B[38;5;241m1000\u001B[39m, \u001B[38;5;241m1000\u001B[39m, \u001B[38;5;241m.3\u001B[39m)\n\u001B[0;32m----> 2\u001B[0m \u001B[38;5;28mprint\u001B[39m(np\u001B[38;5;241m.\u001B[39marray(\u001B[43mx\u001B[49m\u001B[43m[\u001B[49m\u001B[38;5;241;43m0\u001B[39;49m\u001B[43m,\u001B[49m\u001B[43m:\u001B[49m\u001B[43m]\u001B[49m))\n\u001B[1;32m      3\u001B[0m \u001B[38;5;66;03m#truc = np.array(x for i in [0,1])\u001B[39;00m\n\u001B[1;32m      4\u001B[0m \u001B[38;5;66;03m#print(truc[0])\u001B[39;00m\n",
      "File \u001B[0;32m/usr/local/lib/python3.11/site-packages/scipy/sparse/_lil.py:211\u001B[0m, in \u001B[0;36m_lil_base.__getitem__\u001B[0;34m(self, key)\u001B[0m\n\u001B[1;32m    209\u001B[0m     \u001B[38;5;28;01mreturn\u001B[39;00m \u001B[38;5;28mself\u001B[39m\u001B[38;5;241m.\u001B[39m_get_intXint(\u001B[38;5;241m*\u001B[39mkey)\n\u001B[1;32m    210\u001B[0m \u001B[38;5;66;03m# Everything else takes the normal path.\u001B[39;00m\n\u001B[0;32m--> 211\u001B[0m \u001B[38;5;28;01mreturn\u001B[39;00m \u001B[43mIndexMixin\u001B[49m\u001B[38;5;241;43m.\u001B[39;49m\u001B[38;5;21;43m__getitem__\u001B[39;49m\u001B[43m(\u001B[49m\u001B[38;5;28;43mself\u001B[39;49m\u001B[43m,\u001B[49m\u001B[43m \u001B[49m\u001B[43mkey\u001B[49m\u001B[43m)\u001B[49m\n",
      "File \u001B[0;32m/usr/local/lib/python3.11/site-packages/scipy/sparse/_index.py:51\u001B[0m, in \u001B[0;36mIndexMixin.__getitem__\u001B[0;34m(self, key)\u001B[0m\n\u001B[1;32m     49\u001B[0m     \u001B[38;5;28;01mreturn\u001B[39;00m \u001B[38;5;28mself\u001B[39m\u001B[38;5;241m.\u001B[39m_get_intXint(row, col)\n\u001B[1;32m     50\u001B[0m \u001B[38;5;28;01melif\u001B[39;00m \u001B[38;5;28misinstance\u001B[39m(col, \u001B[38;5;28mslice\u001B[39m):\n\u001B[0;32m---> 51\u001B[0m     \u001B[38;5;28;43mself\u001B[39;49m\u001B[38;5;241;43m.\u001B[39;49m\u001B[43m_raise_on_1d_array_slice\u001B[49m\u001B[43m(\u001B[49m\u001B[43m)\u001B[49m\n\u001B[1;32m     52\u001B[0m     \u001B[38;5;28;01mreturn\u001B[39;00m \u001B[38;5;28mself\u001B[39m\u001B[38;5;241m.\u001B[39m_get_intXslice(row, col)\n\u001B[1;32m     53\u001B[0m \u001B[38;5;28;01melif\u001B[39;00m col\u001B[38;5;241m.\u001B[39mndim \u001B[38;5;241m==\u001B[39m \u001B[38;5;241m1\u001B[39m:\n",
      "File \u001B[0;32m/usr/local/lib/python3.11/site-packages/scipy/sparse/_index.py:38\u001B[0m, in \u001B[0;36mIndexMixin._raise_on_1d_array_slice\u001B[0;34m(self)\u001B[0m\n\u001B[1;32m     30\u001B[0m \u001B[38;5;250m\u001B[39m\u001B[38;5;124;03m\"\"\"We do not currently support 1D sparse arrays.\u001B[39;00m\n\u001B[1;32m     31\u001B[0m \n\u001B[1;32m     32\u001B[0m \u001B[38;5;124;03mThis function is called each time that a 1D array would\u001B[39;00m\n\u001B[0;32m   (...)\u001B[0m\n\u001B[1;32m     35\u001B[0m \u001B[38;5;124;03mOnce 1D sparse arrays are implemented, it should be removed.\u001B[39;00m\n\u001B[1;32m     36\u001B[0m \u001B[38;5;124;03m\"\"\"\u001B[39;00m\n\u001B[1;32m     37\u001B[0m \u001B[38;5;28;01mif\u001B[39;00m \u001B[38;5;28mself\u001B[39m\u001B[38;5;241m.\u001B[39m_is_array:\n\u001B[0;32m---> 38\u001B[0m     \u001B[38;5;28;01mraise\u001B[39;00m \u001B[38;5;167;01mNotImplementedError\u001B[39;00m(\n\u001B[1;32m     39\u001B[0m         \u001B[38;5;124m'\u001B[39m\u001B[38;5;124mWe have not yet implemented 1D sparse slices; \u001B[39m\u001B[38;5;124m'\u001B[39m\n\u001B[1;32m     40\u001B[0m         \u001B[38;5;124m'\u001B[39m\u001B[38;5;124mplease index using explicit indices, e.g. `x[:, [0]]`\u001B[39m\u001B[38;5;124m'\u001B[39m\n\u001B[1;32m     41\u001B[0m     )\n",
      "\u001B[0;31mNotImplementedError\u001B[0m: We have not yet implemented 1D sparse slices; please index using explicit indices, e.g. `x[:, [0]]`"
     ]
    }
   ],
   "source": [
    "x = make_set_covering_problem(1000, 1000, .3)\n",
    "print(np.array(x[0,:]))\n",
    "#truc = np.array(x for i in [0,1])\n",
    "#print(truc[0])"
   ],
   "metadata": {
    "collapsed": false,
    "ExecuteTime": {
     "end_time": "2023-10-31T13:47:33.744359Z",
     "start_time": "2023-10-31T13:47:32.317018Z"
    }
   },
   "id": "f86b926e192a7647"
  },
  {
   "cell_type": "code",
   "execution_count": 51,
   "outputs": [
    {
     "name": "stdout",
     "output_type": "stream",
     "text": [
      "Element at row=42 and column=42: False\n"
     ]
    },
    {
     "ename": "TypeError",
     "evalue": "iteration over a 0-d array",
     "output_type": "error",
     "traceback": [
      "\u001B[0;31m---------------------------------------------------------------------------\u001B[0m",
      "\u001B[0;31mTypeError\u001B[0m                                 Traceback (most recent call last)",
      "Cell \u001B[0;32mIn[51], line 12\u001B[0m\n\u001B[1;32m      6\u001B[0m     \u001B[38;5;28mprint\u001B[39m(truc)\n\u001B[1;32m      7\u001B[0m     \u001B[38;5;28;01mreturn\u001B[39;00m reduce(\n\u001B[1;32m      8\u001B[0m         np\u001B[38;5;241m.\u001B[39mlogical_or,\n\u001B[1;32m      9\u001B[0m         [\u001B[38;5;28;01mTrue\u001B[39;00m,\u001B[38;5;28;01mFalse\u001B[39;00m],\n\u001B[1;32m     10\u001B[0m         np\u001B[38;5;241m.\u001B[39marray([\u001B[38;5;28;01mFalse\u001B[39;00m \u001B[38;5;28;01mfor\u001B[39;00m _ \u001B[38;5;129;01min\u001B[39;00m \u001B[38;5;28mrange\u001B[39m(np\u001B[38;5;241m.\u001B[39mshape(x)[\u001B[38;5;241m0\u001B[39m])]),\n\u001B[1;32m     11\u001B[0m     )\n\u001B[0;32m---> 12\u001B[0m \u001B[43mcovered\u001B[49m\u001B[43m(\u001B[49m\u001B[43mx\u001B[49m\u001B[43m,\u001B[49m\u001B[43mnp\u001B[49m\u001B[38;5;241;43m.\u001B[39;49m\u001B[43marray\u001B[49m\u001B[43m(\u001B[49m\u001B[38;5;241;43m2\u001B[39;49m\u001B[43m)\u001B[49m\u001B[43m)\u001B[49m\n",
      "Cell \u001B[0;32mIn[51], line 5\u001B[0m, in \u001B[0;36mcovered\u001B[0;34m(x, state)\u001B[0m\n\u001B[1;32m      4\u001B[0m \u001B[38;5;28;01mdef\u001B[39;00m \u001B[38;5;21mcovered\u001B[39m(x,state):\n\u001B[0;32m----> 5\u001B[0m     truc \u001B[38;5;241m=\u001B[39m np\u001B[38;5;241m.\u001B[39marray\u001B[43m(\u001B[49m\u001B[43mx\u001B[49m\u001B[43m[\u001B[49m\u001B[43m[\u001B[49m\u001B[43mi\u001B[49m\u001B[43m]\u001B[49m\u001B[43m,\u001B[49m\u001B[43m:\u001B[49m\u001B[43m]\u001B[49m\u001B[43m \u001B[49m\u001B[38;5;28;43;01mfor\u001B[39;49;00m\u001B[43m \u001B[49m\u001B[43mi\u001B[49m\u001B[43m \u001B[49m\u001B[38;5;129;43;01min\u001B[39;49;00m\u001B[43m \u001B[49m\u001B[43mstate\u001B[49m\u001B[43m)\u001B[49m\n\u001B[1;32m      6\u001B[0m     \u001B[38;5;28mprint\u001B[39m(truc)\n\u001B[1;32m      7\u001B[0m     \u001B[38;5;28;01mreturn\u001B[39;00m reduce(\n\u001B[1;32m      8\u001B[0m         np\u001B[38;5;241m.\u001B[39mlogical_or,\n\u001B[1;32m      9\u001B[0m         [\u001B[38;5;28;01mTrue\u001B[39;00m,\u001B[38;5;28;01mFalse\u001B[39;00m],\n\u001B[1;32m     10\u001B[0m         np\u001B[38;5;241m.\u001B[39marray([\u001B[38;5;28;01mFalse\u001B[39;00m \u001B[38;5;28;01mfor\u001B[39;00m _ \u001B[38;5;129;01min\u001B[39;00m \u001B[38;5;28mrange\u001B[39m(np\u001B[38;5;241m.\u001B[39mshape(x)[\u001B[38;5;241m0\u001B[39m])]),\n\u001B[1;32m     11\u001B[0m     )\n",
      "\u001B[0;31mTypeError\u001B[0m: iteration over a 0-d array"
     ]
    }
   ],
   "source": [
    "\n",
    "print(\"Element at row=42 and column=42:\", x[42,42])\n",
    "def covered(x,state):\n",
    "    truc = np.array(x[[i],:] for i in state)\n",
    "    print(truc)\n",
    "    return reduce(\n",
    "        np.logical_or,\n",
    "        [True,False],\n",
    "        np.array([False for _ in range(np.shape(x)[0])]),\n",
    "    )\n",
    "covered(x,np.array(2))"
   ],
   "metadata": {
    "collapsed": false,
    "ExecuteTime": {
     "start_time": "2023-10-31T13:42:00.218374Z"
    }
   },
   "id": "573b08c4acec4ebe"
  },
  {
   "cell_type": "code",
   "execution_count": 40,
   "outputs": [],
   "source": [
    "def tweak(state,x):\n",
    "   return state.appen(max(x[[i],:] for i in [choice([i for i in range(0,np.shape(x)[0]-1) if i not in state ]) for i in range(0,4)]))"
   ],
   "metadata": {
    "collapsed": false
   },
   "id": "f90e18102cb22629"
  },
  {
   "cell_type": "code",
   "execution_count": 40,
   "outputs": [],
   "source": [
    "\n"
   ],
   "metadata": {
    "collapsed": false,
    "ExecuteTime": {
     "end_time": "2023-10-31T13:33:10.560611Z",
     "start_time": "2023-10-31T13:33:10.557336Z"
    }
   },
   "id": "3268c0f62eda7fb9"
  },
  {
   "cell_type": "code",
   "execution_count": 41,
   "outputs": [],
   "source": [
    "def algofunction(x,state = np.array(0)):\n",
    "    if sum(covered(state))==np.shape(x)[0]:\n",
    "        return state\n",
    "    new_state = tweak(np.copy(state),x)\n",
    "    if sum(covered(state))< sum(covered(new_state)):\n",
    "        return algofunction(x,new_state)\n",
    "    else:\n",
    "        return algofunction(x,state)"
   ],
   "metadata": {
    "collapsed": false,
    "ExecuteTime": {
     "end_time": "2023-10-31T13:33:10.565841Z",
     "start_time": "2023-10-31T13:33:10.562824Z"
    }
   },
   "id": "57c05960c5c1470c"
  },
  {
   "cell_type": "code",
   "execution_count": 42,
   "outputs": [
    {
     "ename": "TypeError",
     "evalue": "iteration over a 0-d array",
     "output_type": "error",
     "traceback": [
      "\u001B[0;31m---------------------------------------------------------------------------\u001B[0m",
      "\u001B[0;31mTypeError\u001B[0m                                 Traceback (most recent call last)",
      "Cell \u001B[0;32mIn[42], line 1\u001B[0m\n\u001B[0;32m----> 1\u001B[0m \u001B[43malgofunction\u001B[49m\u001B[43m(\u001B[49m\u001B[43mx\u001B[49m\u001B[43m)\u001B[49m\n",
      "Cell \u001B[0;32mIn[41], line 2\u001B[0m, in \u001B[0;36malgofunction\u001B[0;34m(x, state)\u001B[0m\n\u001B[1;32m      1\u001B[0m \u001B[38;5;28;01mdef\u001B[39;00m \u001B[38;5;21malgofunction\u001B[39m(x,state \u001B[38;5;241m=\u001B[39m np\u001B[38;5;241m.\u001B[39marray(\u001B[38;5;241m0\u001B[39m)):\n\u001B[0;32m----> 2\u001B[0m     \u001B[38;5;28;01mif\u001B[39;00m \u001B[38;5;28msum\u001B[39m(\u001B[43mcovered\u001B[49m\u001B[43m(\u001B[49m\u001B[43mstate\u001B[49m\u001B[43m)\u001B[49m)\u001B[38;5;241m==\u001B[39mnp\u001B[38;5;241m.\u001B[39mshape(x)[\u001B[38;5;241m0\u001B[39m]:\n\u001B[1;32m      3\u001B[0m         \u001B[38;5;28;01mreturn\u001B[39;00m state\n\u001B[1;32m      4\u001B[0m     new_state \u001B[38;5;241m=\u001B[39m tweak(np\u001B[38;5;241m.\u001B[39mcopy(state),x)\n",
      "Cell \u001B[0;32mIn[39], line 6\u001B[0m, in \u001B[0;36mcovered\u001B[0;34m(state)\u001B[0m\n\u001B[1;32m      3\u001B[0m \u001B[38;5;28;01mdef\u001B[39;00m \u001B[38;5;21mcovered\u001B[39m(state):\n\u001B[1;32m      4\u001B[0m     \u001B[38;5;28;01mreturn\u001B[39;00m reduce(\n\u001B[1;32m      5\u001B[0m         np\u001B[38;5;241m.\u001B[39mlogical_or,\n\u001B[0;32m----> 6\u001B[0m         \u001B[43m[\u001B[49m\u001B[43mx\u001B[49m\u001B[43m[\u001B[49m\u001B[43m[\u001B[49m\u001B[43mi\u001B[49m\u001B[43m]\u001B[49m\u001B[43m,\u001B[49m\u001B[43m:\u001B[49m\u001B[43m]\u001B[49m\u001B[43m \u001B[49m\u001B[38;5;28;43;01mfor\u001B[39;49;00m\u001B[43m \u001B[49m\u001B[43mi\u001B[49m\u001B[43m \u001B[49m\u001B[38;5;129;43;01min\u001B[39;49;00m\u001B[43m \u001B[49m\u001B[43mstate\u001B[49m\u001B[43m]\u001B[49m,\n\u001B[1;32m      7\u001B[0m         np\u001B[38;5;241m.\u001B[39marray([\u001B[38;5;28;01mFalse\u001B[39;00m \u001B[38;5;28;01mfor\u001B[39;00m _ \u001B[38;5;129;01min\u001B[39;00m \u001B[38;5;28mrange\u001B[39m(np\u001B[38;5;241m.\u001B[39mshape(x)[\u001B[38;5;241m0\u001B[39m])]),\n\u001B[1;32m      8\u001B[0m     )\n",
      "\u001B[0;31mTypeError\u001B[0m: iteration over a 0-d array"
     ]
    }
   ],
   "source": [
    "algofunction(x)"
   ],
   "metadata": {
    "collapsed": false,
    "ExecuteTime": {
     "end_time": "2023-10-31T13:33:10.600222Z",
     "start_time": "2023-10-31T13:33:10.566135Z"
    }
   },
   "id": "e676ba257653157d"
  }
 ],
 "metadata": {
  "kernelspec": {
   "display_name": "Python 3",
   "language": "python",
   "name": "python3"
  },
  "language_info": {
   "codemirror_mode": {
    "name": "ipython",
    "version": 2
   },
   "file_extension": ".py",
   "mimetype": "text/x-python",
   "name": "python",
   "nbconvert_exporter": "python",
   "pygments_lexer": "ipython2",
   "version": "2.7.6"
  }
 },
 "nbformat": 4,
 "nbformat_minor": 5
}
