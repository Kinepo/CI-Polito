{
 "cells": [
  {
   "cell_type": "markdown",
   "metadata": {},
   "source": [
    "Copyright **`(c)`** 2023 Giovanni Squillero `<giovanni.squillero@polito.it>`  \n",
    "[`https://github.com/squillero/computational-intelligence`](https://github.com/squillero/computational-intelligence)  \n",
    "Free for personal or classroom use; see [`LICENSE.md`](https://github.com/squillero/computational-intelligence/blob/master/LICENSE.md) for details.  "
   ]
  },
  {
   "cell_type": "markdown",
   "metadata": {},
   "source": [
    "# LAB9\n",
    "\n",
    "Write a local-search algorithm (eg. an EA) able to solve the *Problem* instances 1, 2, 5, and 10 on a 1000-loci genomes, using a minimum number of fitness calls. That's all.\n",
    "\n",
    "### Deadlines:\n",
    "\n",
    "* Submission: Sunday, December 3 ([CET](https://www.timeanddate.com/time/zones/cet))\n",
    "* Reviews: Sunday, December 10 ([CET](https://www.timeanddate.com/time/zones/cet))\n",
    "\n",
    "Notes:\n",
    "\n",
    "* Reviews will be assigned  on Monday, December 4\n",
    "* You need to commit in order to be selected as a reviewer (ie. better to commit an empty work than not to commit)"
   ]
  },
  {
   "cell_type": "code",
   "execution_count": 2,
   "metadata": {
    "ExecuteTime": {
     "end_time": "2023-12-02T18:17:04.750151Z",
     "start_time": "2023-12-02T18:17:04.509448Z"
    }
   },
   "outputs": [],
   "source": [
    "from random import choices\n",
    "from random import random\n",
    "from random import randint\n",
    "from copy import deepcopy\n",
    "import numpy as np\n",
    "import math\n",
    "\n",
    "import lab9_lib"
   ]
  },
  {
   "cell_type": "code",
   "execution_count": null,
   "outputs": [],
   "source": [
    "POP_SIZE = 10\n",
    "PARENT_SIZE = math.ceil(POP_SIZE / 4)\n",
    "GENOME_SIZE = 1000"
   ],
   "metadata": {
    "collapsed": false
   }
  },
  {
   "cell_type": "code",
   "execution_count": 32,
   "outputs": [],
   "source": [
    "class Individual:\n",
    "    genome:list\n",
    "    fitness:float\n",
    "    \n",
    "    def __init__(self, genome:list=None):\n",
    "        if genome is None:\n",
    "            genome = choices([0, 1], k=GENOME_SIZE)     \n",
    "        self.genome=genome\n",
    "        self.fitness=fitness(genome)\n",
    "        pass\n",
    "    \n",
    "    def __mutate(self):\n",
    "        child = deepcopy(self)\n",
    "        nbmute:int = math.ceil((random()/self.fitness)*GENOME_SIZE*0.1)\n",
    "        if nbmute > math.ceil(GENOME_SIZE*0.5)-1:\n",
    "            nbmute = math.ceil(GENOME_SIZE*0.5)-1\n",
    "        for i in range(0,nbmute):\n",
    "            child.genome[randint(0,GENOME_SIZE-1)]^=1\n",
    "        child.fitness=fitness(child.genome)\n",
    "        return child\n",
    "\n",
    "    def __recomb(self,parent2):\n",
    "        child = deepcopy(self)\n",
    "        rangelswap:int = math.ceil((random()/self.fitness)*GENOME_SIZE*0.1)\n",
    "        if rangelswap > math.ceil(GENOME_SIZE*0.75)-1 :\n",
    "            rangelswap = math.ceil(GENOME_SIZE*0.75)-1\n",
    "        child.genome = child.genome[0:GENOME_SIZE-rangelswap] + parent2.genome[GENOME_SIZE-rangelswap:]\n",
    "        child.fitness=fitness(child.genome)\n",
    "        return child\n",
    "\n",
    "\n",
    "\n",
    "class Parent:\n",
    "    parentList:[Individual]\n",
    "    \n",
    "    def __init__(self,pop:[Individual]=None):\n",
    "        if pop is None:\n",
    "            pop = [Individual() in range(0, POP_SIZE)]\n",
    "        self.__setParentList(pop)\n",
    "        pass\n",
    "    \n",
    "    def getBestPop(self,pop:[Individual])->[Individual]:\n",
    "        return sorted(pop, key=lambda x:x.fitness)[0:PARENT_SIZE]\n",
    "    \n",
    "    def createNewPop(self,pop:[Individual])->[Individual]:\n",
    "        self.__setParentList(pop)\n",
    "        newpop=[]\n",
    "        newpop.append(self.parentList)\n",
    "        for i in range(len(self.parentList), POP_SIZE):\n",
    "            choosenparent = choices(self.parentList, [j.fitness for j in self.parentList])[0]\n",
    "            newpop.append(choices([choosenparent.__mutate(),choosenparent.__recomb(choices(self.parentList, [j.fitness for j in self.parentList if j != choosenparent])[0])],[choosenparent.fitness,1-choosenparent.fitness])[0])\n",
    "        return newpop\n",
    "\n",
    "    def __setParentList(self, pop:[Individual]):\n",
    "        self.parentList = self.getBestPop(pop)\n",
    "        pass\n",
    "\n"
   ],
   "metadata": {
    "collapsed": false,
    "ExecuteTime": {
     "end_time": "2023-12-03T00:37:05.763360Z",
     "start_time": "2023-12-03T00:37:05.753203Z"
    }
   }
  },
  {
   "cell_type": "code",
   "execution_count": null,
   "outputs": [],
   "source": [],
   "metadata": {
    "collapsed": false
   }
  },
  {
   "cell_type": "code",
   "execution_count": null,
   "outputs": [],
   "source": [],
   "metadata": {
    "collapsed": false
   }
  },
  {
   "cell_type": "code",
   "execution_count": 30,
   "metadata": {
    "ExecuteTime": {
     "end_time": "2023-12-03T00:21:53.487298Z",
     "start_time": "2023-12-03T00:21:53.482530Z"
    }
   },
   "outputs": [
    {
     "name": "stdout",
     "output_type": "stream",
     "text": [
      "1001011011: 60.00%\n",
      "0101100010: 40.00%\n",
      "1010110011: 60.00%\n",
      "1011001110: 60.00%\n",
      "0110100101: 50.00%\n",
      "1000111001: 50.00%\n",
      "1000001100: 30.00%\n",
      "0011100100: 40.00%\n",
      "1010101001: 50.00%\n",
      "1011010110: 60.00%\n",
      "10\n"
     ]
    }
   ],
   "source": [
    "fitness = lab9_lib.make_problem(10)\n",
    "foo=[]\n",
    "for n in range(10):\n",
    "    truc = choices([0, 1], k=10)\n",
    "    p.append(truc)\n",
    "    print(f\"{''.join(str(g) for g in truc)}: {fitness(truc):.2%}\")\n",
    "\n",
    "print(fitness.calls)\n"
   ]
  },
  {
   "cell_type": "code",
   "execution_count": 31,
   "metadata": {
    "ExecuteTime": {
     "end_time": "2023-12-03T00:21:55.488199Z",
     "start_time": "2023-12-03T00:21:55.481875Z"
    }
   },
   "outputs": [
    {
     "name": "stdout",
     "output_type": "stream",
     "text": [
      "[0, 0, 0, 1, 0, 1, 1, 0, 1, 1]: 50.00%\n"
     ]
    }
   ],
   "source": [
    "#p[0]= [p[0][i] ^ 1 for i in range(0,len(p[0]))]\n",
    "foo[0][0]^=1\n",
    "print(f\"{foo[0]}: {fitness(foo[0]):.2%}\")"
   ]
  }
 ],
 "metadata": {
  "kernelspec": {
   "display_name": "ci-fLJ3OwGs-py3.12",
   "language": "python",
   "name": "python3"
  },
  "language_info": {
   "codemirror_mode": {
    "name": "ipython",
    "version": 3
   },
   "file_extension": ".py",
   "mimetype": "text/x-python",
   "name": "python",
   "nbconvert_exporter": "python",
   "pygments_lexer": "ipython3",
   "version": "3.12.0"
  }
 },
 "nbformat": 4,
 "nbformat_minor": 2
}
