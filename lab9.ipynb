{
 "cells": [
  {
   "cell_type": "markdown",
   "metadata": {},
   "source": [
    "Copyright **`(c)`** 2023 Giovanni Squillero `<giovanni.squillero@polito.it>`  \n",
    "[`https://github.com/squillero/computational-intelligence`](https://github.com/squillero/computational-intelligence)  \n",
    "Free for personal or classroom use; see [`LICENSE.md`](https://github.com/squillero/computational-intelligence/blob/master/LICENSE.md) for details.  "
   ]
  },
  {
   "cell_type": "markdown",
   "metadata": {},
   "source": [
    "# LAB9\n",
    "\n",
    "Write a local-search algorithm (eg. an EA) able to solve the *Problem* instances 1, 2, 5, and 10 on a 1000-loci genomes, using a minimum number of fitness calls. That's all.\n",
    "\n",
    "### Deadlines:\n",
    "\n",
    "* Submission: Sunday, December 3 ([CET](https://www.timeanddate.com/time/zones/cet))\n",
    "* Reviews: Sunday, December 10 ([CET](https://www.timeanddate.com/time/zones/cet))\n",
    "\n",
    "Notes:\n",
    "\n",
    "* Reviews will be assigned  on Monday, December 4\n",
    "* You need to commit in order to be selected as a reviewer (ie. better to commit an empty work than not to commit)"
   ]
  },
  {
   "cell_type": "code",
   "execution_count": 33,
   "metadata": {
    "ExecuteTime": {
     "end_time": "2023-12-03T00:56:40.382844Z",
     "start_time": "2023-12-03T00:56:40.360065Z"
    }
   },
   "outputs": [],
   "source": [
    "from random import choices\n",
    "from random import random\n",
    "from random import randint\n",
    "from copy import deepcopy\n",
    "import numpy as np\n",
    "import math\n",
    "\n",
    "import lab9_lib"
   ]
  },
  {
   "cell_type": "markdown",
   "source": [],
   "metadata": {
    "collapsed": false
   }
  },
  {
   "cell_type": "code",
   "execution_count": 34,
   "outputs": [],
   "source": [
    "POP_SIZE = 10\n",
    "PARENT_SIZE = math.ceil(POP_SIZE / 4)\n",
    "GENOME_SIZE = 50\n",
    "PROBLEM_SIZE = 10"
   ],
   "metadata": {
    "collapsed": false,
    "ExecuteTime": {
     "end_time": "2023-12-03T00:56:40.392842Z",
     "start_time": "2023-12-03T00:56:40.365799Z"
    }
   }
  },
  {
   "cell_type": "code",
   "execution_count": 35,
   "outputs": [],
   "source": [
    "class Individual:\n",
    "    genome:list\n",
    "    fitness:float\n",
    "    \n",
    "    def __init__(self, genome:list=None):\n",
    "        if genome is None:\n",
    "            genome = choices([0, 1], k=GENOME_SIZE)     \n",
    "        self.genome=genome\n",
    "        self.fitness=fitness(genome)\n",
    "        pass\n",
    "    \n",
    "    def __mutate(self):\n",
    "        child = deepcopy(self)\n",
    "        nbmute:int = math.ceil((random()/self.fitness)*GENOME_SIZE*0.1)\n",
    "        if nbmute > math.ceil(GENOME_SIZE*0.5)-1:\n",
    "            nbmute = math.ceil(GENOME_SIZE*0.5)-1\n",
    "        for i in range(0,nbmute):\n",
    "            child.genome[randint(0,GENOME_SIZE-1)]^=1\n",
    "        child.fitness=fitness(child.genome)\n",
    "        return child\n",
    "\n",
    "    def __recomb(self,parent2):\n",
    "        child = deepcopy(self)\n",
    "        rangelswap:int = math.ceil((random()/self.fitness)*GENOME_SIZE*0.1)\n",
    "        if rangelswap > math.ceil(GENOME_SIZE*0.75)-1 :\n",
    "            rangelswap = math.ceil(GENOME_SIZE*0.75)-1\n",
    "        child.genome = child.genome[0:GENOME_SIZE-rangelswap] + parent2.genome[GENOME_SIZE-rangelswap:]\n",
    "        child.fitness=fitness(child.genome)\n",
    "        return child\n",
    "\n",
    "\n",
    "\n",
    "class Parent:\n",
    "    parentList:[Individual]\n",
    "    \n",
    "    def __init__(self,pop:[Individual]=None):\n",
    "        if pop is None:\n",
    "            pop = [Individual() in range(0, POP_SIZE)]\n",
    "        self.setParentList(pop)\n",
    "        pass\n",
    "    \n",
    "    def getBestPop(self,pop:[Individual]=None)->[Individual]:\n",
    "        if pop is None:\n",
    "            return self.parentList[0].fitness\n",
    "        return sorted(pop, key=lambda x:x.fitness)[0:PARENT_SIZE]\n",
    "    \n",
    "    def createNewPop(self)->[Individual]:\n",
    "        newpop=[]\n",
    "        newpop.append(self.parentList)\n",
    "        for i in range(len(self.parentList), POP_SIZE):\n",
    "            choosenparent = choices(self.parentList, [j.fitness for j in self.parentList])[0]\n",
    "            newpop.append(choices([choosenparent.__mutate(),choosenparent.__recomb(choices(self.parentList, [j.fitness for j in self.parentList if j != choosenparent])[0])],[choosenparent.fitness,1-choosenparent.fitness])[0])\n",
    "        return newpop\n",
    "\n",
    "    def setParentList(self, pop:[Individual]):\n",
    "        self.parentList = self.getBestPop(pop)\n",
    "        pass\n",
    "\n"
   ],
   "metadata": {
    "collapsed": false,
    "ExecuteTime": {
     "end_time": "2023-12-03T00:56:40.399996Z",
     "start_time": "2023-12-03T00:56:40.378410Z"
    }
   }
  },
  {
   "cell_type": "code",
   "execution_count": 36,
   "outputs": [
    {
     "ename": "AttributeError",
     "evalue": "'bool' object has no attribute 'fitness'",
     "output_type": "error",
     "traceback": [
      "\u001B[0;31m---------------------------------------------------------------------------\u001B[0m",
      "\u001B[0;31mAttributeError\u001B[0m                            Traceback (most recent call last)",
      "Cell \u001B[0;32mIn[36], line 4\u001B[0m\n\u001B[1;32m      1\u001B[0m fitness \u001B[38;5;241m=\u001B[39m lab9_lib\u001B[38;5;241m.\u001B[39mmake_problem(PROBLEM_SIZE)\n\u001B[1;32m      3\u001B[0m population \u001B[38;5;241m=\u001B[39m [Individual() \u001B[38;5;129;01min\u001B[39;00m \u001B[38;5;28mrange\u001B[39m(\u001B[38;5;241m0\u001B[39m, POP_SIZE)]\n\u001B[0;32m----> 4\u001B[0m listofparent \u001B[38;5;241m=\u001B[39m \u001B[43mParent\u001B[49m\u001B[43m(\u001B[49m\u001B[43mpopulation\u001B[49m\u001B[43m)\u001B[49m\n\u001B[1;32m      5\u001B[0m \u001B[38;5;28;01mwhile\u001B[39;00m listofparent\u001B[38;5;241m.\u001B[39mgetBestPop() \u001B[38;5;241m!=\u001B[39m \u001B[38;5;241m1\u001B[39m:\n\u001B[1;32m      6\u001B[0m     population \u001B[38;5;241m=\u001B[39m listofparent\u001B[38;5;241m.\u001B[39mcreateNewPop()\n",
      "Cell \u001B[0;32mIn[35], line 39\u001B[0m, in \u001B[0;36mParent.__init__\u001B[0;34m(self, pop)\u001B[0m\n\u001B[1;32m     37\u001B[0m \u001B[38;5;28;01mif\u001B[39;00m pop \u001B[38;5;129;01mis\u001B[39;00m \u001B[38;5;28;01mNone\u001B[39;00m:\n\u001B[1;32m     38\u001B[0m     pop \u001B[38;5;241m=\u001B[39m [Individual() \u001B[38;5;129;01min\u001B[39;00m \u001B[38;5;28mrange\u001B[39m(\u001B[38;5;241m0\u001B[39m, POP_SIZE)]\n\u001B[0;32m---> 39\u001B[0m \u001B[38;5;28;43mself\u001B[39;49m\u001B[38;5;241;43m.\u001B[39;49m\u001B[43msetParentList\u001B[49m\u001B[43m(\u001B[49m\u001B[43mpop\u001B[49m\u001B[43m)\u001B[49m\n\u001B[1;32m     40\u001B[0m \u001B[38;5;28;01mpass\u001B[39;00m\n",
      "Cell \u001B[0;32mIn[35], line 56\u001B[0m, in \u001B[0;36mParent.setParentList\u001B[0;34m(self, pop)\u001B[0m\n\u001B[1;32m     55\u001B[0m \u001B[38;5;28;01mdef\u001B[39;00m \u001B[38;5;21msetParentList\u001B[39m(\u001B[38;5;28mself\u001B[39m, pop:[Individual]):\n\u001B[0;32m---> 56\u001B[0m     \u001B[38;5;28mself\u001B[39m\u001B[38;5;241m.\u001B[39mparentList \u001B[38;5;241m=\u001B[39m \u001B[38;5;28;43mself\u001B[39;49m\u001B[38;5;241;43m.\u001B[39;49m\u001B[43mgetBestPop\u001B[49m\u001B[43m(\u001B[49m\u001B[43mpop\u001B[49m\u001B[43m)\u001B[49m\n\u001B[1;32m     57\u001B[0m     \u001B[38;5;28;01mpass\u001B[39;00m\n",
      "Cell \u001B[0;32mIn[35], line 45\u001B[0m, in \u001B[0;36mParent.getBestPop\u001B[0;34m(self, pop)\u001B[0m\n\u001B[1;32m     43\u001B[0m \u001B[38;5;28;01mif\u001B[39;00m pop \u001B[38;5;129;01mis\u001B[39;00m \u001B[38;5;28;01mNone\u001B[39;00m:\n\u001B[1;32m     44\u001B[0m     \u001B[38;5;28;01mreturn\u001B[39;00m \u001B[38;5;28mself\u001B[39m\u001B[38;5;241m.\u001B[39mparentList[\u001B[38;5;241m0\u001B[39m]\u001B[38;5;241m.\u001B[39mfitness\n\u001B[0;32m---> 45\u001B[0m \u001B[38;5;28;01mreturn\u001B[39;00m \u001B[38;5;28;43msorted\u001B[39;49m\u001B[43m(\u001B[49m\u001B[43mpop\u001B[49m\u001B[43m,\u001B[49m\u001B[43m \u001B[49m\u001B[43mkey\u001B[49m\u001B[38;5;241;43m=\u001B[39;49m\u001B[38;5;28;43;01mlambda\u001B[39;49;00m\u001B[43m \u001B[49m\u001B[43mx\u001B[49m\u001B[43m:\u001B[49m\u001B[43mx\u001B[49m\u001B[38;5;241;43m.\u001B[39;49m\u001B[43mfitness\u001B[49m\u001B[43m)\u001B[49m[\u001B[38;5;241m0\u001B[39m:PARENT_SIZE]\n",
      "Cell \u001B[0;32mIn[35], line 45\u001B[0m, in \u001B[0;36mParent.getBestPop.<locals>.<lambda>\u001B[0;34m(x)\u001B[0m\n\u001B[1;32m     43\u001B[0m \u001B[38;5;28;01mif\u001B[39;00m pop \u001B[38;5;129;01mis\u001B[39;00m \u001B[38;5;28;01mNone\u001B[39;00m:\n\u001B[1;32m     44\u001B[0m     \u001B[38;5;28;01mreturn\u001B[39;00m \u001B[38;5;28mself\u001B[39m\u001B[38;5;241m.\u001B[39mparentList[\u001B[38;5;241m0\u001B[39m]\u001B[38;5;241m.\u001B[39mfitness\n\u001B[0;32m---> 45\u001B[0m \u001B[38;5;28;01mreturn\u001B[39;00m \u001B[38;5;28msorted\u001B[39m(pop, key\u001B[38;5;241m=\u001B[39m\u001B[38;5;28;01mlambda\u001B[39;00m x:\u001B[43mx\u001B[49m\u001B[38;5;241;43m.\u001B[39;49m\u001B[43mfitness\u001B[49m)[\u001B[38;5;241m0\u001B[39m:PARENT_SIZE]\n",
      "\u001B[0;31mAttributeError\u001B[0m: 'bool' object has no attribute 'fitness'"
     ]
    }
   ],
   "source": [
    "fitness = lab9_lib.make_problem(PROBLEM_SIZE)\n",
    "\n",
    "population = [Individual() in range(0, POP_SIZE)]\n",
    "listofparent = Parent(population)\n",
    "while listofparent.getBestPop() != 1:\n",
    "    population = listofparent.createNewPop()\n",
    "    listofparent.setParentList(population)\n",
    "\n",
    "print(\"OK found it\")\n",
    "print(fitness.calls)\n"
   ],
   "metadata": {
    "collapsed": false,
    "ExecuteTime": {
     "end_time": "2023-12-03T00:56:40.457956Z",
     "start_time": "2023-12-03T00:56:40.398787Z"
    }
   }
  }
 ],
 "metadata": {
  "kernelspec": {
   "display_name": "ci-fLJ3OwGs-py3.12",
   "language": "python",
   "name": "python3"
  },
  "language_info": {
   "codemirror_mode": {
    "name": "ipython",
    "version": 3
   },
   "file_extension": ".py",
   "mimetype": "text/x-python",
   "name": "python",
   "nbconvert_exporter": "python",
   "pygments_lexer": "ipython3",
   "version": "3.12.0"
  }
 },
 "nbformat": 4,
 "nbformat_minor": 2
}
