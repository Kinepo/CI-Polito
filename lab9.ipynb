{
 "cells": [
  {
   "cell_type": "markdown",
   "metadata": {},
   "source": [
    "Copyright **`(c)`** 2023 Giovanni Squillero `<giovanni.squillero@polito.it>`  \n",
    "[`https://github.com/squillero/computational-intelligence`](https://github.com/squillero/computational-intelligence)  \n",
    "Free for personal or classroom use; see [`LICENSE.md`](https://github.com/squillero/computational-intelligence/blob/master/LICENSE.md) for details.  "
   ]
  },
  {
   "cell_type": "markdown",
   "metadata": {},
   "source": [
    "# LAB9\n",
    "\n",
    "Write a local-search algorithm (eg. an EA) able to solve the *Problem* instances 1, 2, 5, and 10 on a 1000-loci genomes, using a minimum number of fitness calls. That's all.\n",
    "\n",
    "### Deadlines:\n",
    "\n",
    "* Submission: Sunday, December 3 ([CET](https://www.timeanddate.com/time/zones/cet))\n",
    "* Reviews: Sunday, December 10 ([CET](https://www.timeanddate.com/time/zones/cet))\n",
    "\n",
    "Notes:\n",
    "\n",
    "* Reviews will be assigned  on Monday, December 4\n",
    "* You need to commit in order to be selected as a reviewer (ie. better to commit an empty work than not to commit)"
   ]
  },
  {
   "cell_type": "code",
   "execution_count": 2,
   "metadata": {
    "ExecuteTime": {
     "end_time": "2023-12-02T18:17:04.750151Z",
     "start_time": "2023-12-02T18:17:04.509448Z"
    }
   },
   "outputs": [],
   "source": [
    "from random import choices\n",
    "import numpy as np\n",
    "import math\n",
    "\n",
    "import lab9_lib"
   ]
  },
  {
   "cell_type": "code",
   "execution_count": null,
   "outputs": [],
   "source": [
    "POP_SIZE = 10\n",
    "PARENT_SIZE = math.ceil(POP_SIZE / 4)\n",
    "GENOME_SIZE = 1000"
   ],
   "metadata": {
    "collapsed": false
   }
  },
  {
   "cell_type": "code",
   "execution_count": 25,
   "outputs": [
    {
     "ename": "NameError",
     "evalue": "name 'GENOME_SIZE' is not defined",
     "output_type": "error",
     "traceback": [
      "\u001B[0;31m---------------------------------------------------------------------------\u001B[0m",
      "\u001B[0;31mNameError\u001B[0m                                 Traceback (most recent call last)",
      "Cell \u001B[0;32mIn[25], line 12\u001B[0m\n\u001B[1;32m      9\u001B[0m         \u001B[38;5;28mself\u001B[39m\u001B[38;5;241m.\u001B[39mfitness\u001B[38;5;241m=\u001B[39mfitness(gename)\n\u001B[1;32m     10\u001B[0m         \u001B[38;5;28;01mpass\u001B[39;00m\n\u001B[0;32m---> 12\u001B[0m \u001B[38;5;28;43;01mclass\u001B[39;49;00m\u001B[43m \u001B[49m\u001B[38;5;21;43;01mParent\u001B[39;49;00m\u001B[43m:\u001B[49m\n\u001B[1;32m     13\u001B[0m \u001B[43m    \u001B[49m\u001B[43mparentList\u001B[49m\u001B[43m:\u001B[49m\u001B[43m[\u001B[49m\u001B[43mIndividual\u001B[49m\u001B[43m]\u001B[49m\u001B[43m \u001B[49m\u001B[38;5;241;43m=\u001B[39;49m\u001B[43m \u001B[49m\u001B[43m[\u001B[49m\u001B[43m \u001B[49m\u001B[43mIndividual\u001B[49m\u001B[43m(\u001B[49m\u001B[43m)\u001B[49m\u001B[43m \u001B[49m\u001B[38;5;129;43;01min\u001B[39;49;00m\u001B[43m \u001B[49m\u001B[38;5;28;43mrange\u001B[39;49m\u001B[43m(\u001B[49m\u001B[38;5;241;43m0\u001B[39;49m\u001B[43m,\u001B[49m\u001B[43m \u001B[49m\u001B[43mmath\u001B[49m\u001B[38;5;241;43m.\u001B[39;49m\u001B[43mceil\u001B[49m\u001B[43m(\u001B[49m\u001B[43mPROBLEM_SIZE\u001B[49m\u001B[38;5;241;43m/\u001B[39;49m\u001B[38;5;241;43m4\u001B[39;49m\u001B[43m)\u001B[49m\u001B[43m)\u001B[49m\u001B[43m]\u001B[49m\n\u001B[1;32m     15\u001B[0m \u001B[43m    \u001B[49m\u001B[38;5;28;43;01mdef\u001B[39;49;00m\u001B[43m \u001B[49m\u001B[38;5;21;43m__init__\u001B[39;49m\u001B[43m(\u001B[49m\u001B[38;5;28;43mself\u001B[39;49m\u001B[43m)\u001B[49m\u001B[43m:\u001B[49m\n",
      "Cell \u001B[0;32mIn[25], line 13\u001B[0m, in \u001B[0;36mParent\u001B[0;34m()\u001B[0m\n\u001B[1;32m     12\u001B[0m \u001B[38;5;28;01mclass\u001B[39;00m \u001B[38;5;21;01mParent\u001B[39;00m:\n\u001B[0;32m---> 13\u001B[0m     parentList:[Individual] \u001B[38;5;241m=\u001B[39m [ \u001B[43mIndividual\u001B[49m\u001B[43m(\u001B[49m\u001B[43m)\u001B[49m \u001B[38;5;129;01min\u001B[39;00m \u001B[38;5;28mrange\u001B[39m(\u001B[38;5;241m0\u001B[39m, math\u001B[38;5;241m.\u001B[39mceil(PROBLEM_SIZE\u001B[38;5;241m/\u001B[39m\u001B[38;5;241m4\u001B[39m))]\n\u001B[1;32m     15\u001B[0m     \u001B[38;5;28;01mdef\u001B[39;00m \u001B[38;5;21m__init__\u001B[39m(\u001B[38;5;28mself\u001B[39m):\n\u001B[1;32m     16\u001B[0m         \u001B[38;5;28;01mpass\u001B[39;00m\n",
      "Cell \u001B[0;32mIn[25], line 7\u001B[0m, in \u001B[0;36mIndividual.__init__\u001B[0;34m(self, gename)\u001B[0m\n\u001B[1;32m      5\u001B[0m \u001B[38;5;28;01mdef\u001B[39;00m \u001B[38;5;21m__init__\u001B[39m(\u001B[38;5;28mself\u001B[39m, gename\u001B[38;5;241m=\u001B[39m\u001B[38;5;28;01mNone\u001B[39;00m):\n\u001B[1;32m      6\u001B[0m     \u001B[38;5;28;01mif\u001B[39;00m gename \u001B[38;5;129;01mis\u001B[39;00m \u001B[38;5;28;01mNone\u001B[39;00m:\n\u001B[0;32m----> 7\u001B[0m         gename \u001B[38;5;241m=\u001B[39m choices([\u001B[38;5;241m0\u001B[39m, \u001B[38;5;241m1\u001B[39m], k\u001B[38;5;241m=\u001B[39m\u001B[43mGENOME_SIZE\u001B[49m)        \n\u001B[1;32m      8\u001B[0m     \u001B[38;5;28mself\u001B[39m\u001B[38;5;241m.\u001B[39mgenome\u001B[38;5;241m=\u001B[39mgename\n\u001B[1;32m      9\u001B[0m     \u001B[38;5;28mself\u001B[39m\u001B[38;5;241m.\u001B[39mfitness\u001B[38;5;241m=\u001B[39mfitness(gename)\n",
      "\u001B[0;31mNameError\u001B[0m: name 'GENOME_SIZE' is not defined"
     ]
    }
   ],
   "source": [
    "class Individual:\n",
    "    genome:list\n",
    "    fitness:float\n",
    "    \n",
    "    def __init__(self, genome:list=None):\n",
    "        if genome is None:\n",
    "            genome = choices([0, 1], k=GENOME_SIZE)     \n",
    "        self.genome=genome\n",
    "        self.fitness=fitness(genome)\n",
    "        pass\n",
    "    \n",
    "    def __mutate(self):\n",
    "        pass\n",
    "\n",
    "    def __recomb(self,parent2):\n",
    "        pass\n",
    "\n",
    "\n",
    "\n",
    "class Parent:\n",
    "    parentList:[Individual]\n",
    "    \n",
    "    def __init__(self,pop:[Individual]=None):\n",
    "        if pop is None:\n",
    "            pop = [Individual() in range(0, POP_SIZE)]\n",
    "        self.__setParentList(pop)\n",
    "        pass\n",
    "    \n",
    "    def getBestPop(self,pop:[Individual])->[Individual]:\n",
    "        return sorted(pop, key=lambda x:x.fitness)[0:PARENT_SIZE]\n",
    "    \n",
    "    def createNewPop(self,pop:[Individual])->[Individual]:\n",
    "        self.__setParentList(pop)\n",
    "        newpop=[]\n",
    "        newpop.append(self.parentList)\n",
    "        for i in range(len(self.parentList), POP_SIZE):\n",
    "            choosenparent = choices(self.parentList, [j.fitness for j in self.parentList])[0]\n",
    "            newpop.append(choices([choosenparent.__mutate(),choosenparent.__recomb(choices(self.parentList, [j.fitness for j in self.parentList if j != choosenparent])[0])],[choosenparent.fitness,1-choosenparent.fitness])[0])\n",
    "        return newpop\n",
    "\n",
    "    def __setParentList(self, pop:[Individual]):\n",
    "        self.parentList = self.getBestPop(pop)\n",
    "        pass\n",
    "\n"
   ],
   "metadata": {
    "collapsed": false,
    "ExecuteTime": {
     "end_time": "2023-12-02T19:42:02.558484Z",
     "start_time": "2023-12-02T19:42:02.435123Z"
    }
   }
  },
  {
   "cell_type": "code",
   "execution_count": null,
   "outputs": [],
   "source": [],
   "metadata": {
    "collapsed": false
   }
  },
  {
   "cell_type": "code",
   "execution_count": null,
   "outputs": [],
   "source": [],
   "metadata": {
    "collapsed": false
   }
  },
  {
   "cell_type": "code",
   "execution_count": 19,
   "metadata": {
    "ExecuteTime": {
     "end_time": "2023-12-02T18:23:01.685519Z",
     "start_time": "2023-12-02T18:23:01.679780Z"
    }
   },
   "outputs": [
    {
     "name": "stdout",
     "output_type": "stream",
     "text": [
      "1111111101: 90.00%\n",
      "0100010000: 20.00%\n",
      "0111000100: 40.00%\n",
      "1100100011: 50.00%\n",
      "0111010100: 50.00%\n",
      "1010011100: 50.00%\n",
      "0000110001: 30.00%\n",
      "0110001001: 40.00%\n",
      "0101100011: 50.00%\n",
      "0101111011: 70.00%\n",
      "10\n"
     ]
    }
   ],
   "source": [
    "fitness = lab9_lib.make_problem(10)\n",
    "p=[]\n",
    "for n in range(10):\n",
    "    ind = choices([0, 1], k=10)\n",
    "    p.append(ind)\n",
    "    print(f\"{''.join(str(g) for g in ind)}: {fitness(ind):.2%}\")\n",
    "\n",
    "print(fitness.calls)\n"
   ]
  },
  {
   "cell_type": "code",
   "execution_count": 23,
   "metadata": {
    "ExecuteTime": {
     "end_time": "2023-12-02T19:26:40.315048Z",
     "start_time": "2023-12-02T19:26:40.286913Z"
    }
   },
   "outputs": [
    {
     "ename": "TypeError",
     "evalue": "AbstractProblem.__call__() missing 1 required positional argument: 'genome'",
     "output_type": "error",
     "traceback": [
      "\u001B[0;31m---------------------------------------------------------------------------\u001B[0m",
      "\u001B[0;31mTypeError\u001B[0m                                 Traceback (most recent call last)",
      "Cell \u001B[0;32mIn[23], line 2\u001B[0m\n\u001B[1;32m      1\u001B[0m p[\u001B[38;5;241m0\u001B[39m]\u001B[38;5;241m=\u001B[39m [p[\u001B[38;5;241m0\u001B[39m][i] \u001B[38;5;241m^\u001B[39m \u001B[38;5;241m1\u001B[39m \u001B[38;5;28;01mfor\u001B[39;00m i \u001B[38;5;129;01min\u001B[39;00m \u001B[38;5;28mrange\u001B[39m(\u001B[38;5;241m0\u001B[39m,\u001B[38;5;28mlen\u001B[39m(p[\u001B[38;5;241m0\u001B[39m]))]\n\u001B[0;32m----> 2\u001B[0m \u001B[38;5;28mprint\u001B[39m(\u001B[38;5;124mf\u001B[39m\u001B[38;5;124m\"\u001B[39m\u001B[38;5;132;01m{\u001B[39;00mp[\u001B[38;5;241m0\u001B[39m]\u001B[38;5;132;01m}\u001B[39;00m\u001B[38;5;124m: \u001B[39m\u001B[38;5;132;01m{\u001B[39;00m\u001B[43mfitness\u001B[49m\u001B[43m(\u001B[49m\u001B[43m)\u001B[49m\u001B[38;5;132;01m:\u001B[39;00m\u001B[38;5;124m.2%\u001B[39m\u001B[38;5;132;01m}\u001B[39;00m\u001B[38;5;124m\"\u001B[39m)\n",
      "\u001B[0;31mTypeError\u001B[0m: AbstractProblem.__call__() missing 1 required positional argument: 'genome'"
     ]
    }
   ],
   "source": [
    "p[0]= [p[0][i] ^ 1 for i in range(0,len(p[0]))]\n",
    "print(f\"{p[0]}: {fitness(p[0]):.2%}\")"
   ]
  }
 ],
 "metadata": {
  "kernelspec": {
   "display_name": "ci-fLJ3OwGs-py3.12",
   "language": "python",
   "name": "python3"
  },
  "language_info": {
   "codemirror_mode": {
    "name": "ipython",
    "version": 3
   },
   "file_extension": ".py",
   "mimetype": "text/x-python",
   "name": "python",
   "nbconvert_exporter": "python",
   "pygments_lexer": "ipython3",
   "version": "3.12.0"
  }
 },
 "nbformat": 4,
 "nbformat_minor": 2
}
