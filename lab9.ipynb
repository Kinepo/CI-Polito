{
 "cells": [
  {
   "cell_type": "markdown",
   "metadata": {},
   "source": [
    "Copyright **`(c)`** 2023 Giovanni Squillero `<giovanni.squillero@polito.it>`  \n",
    "[`https://github.com/squillero/computational-intelligence`](https://github.com/squillero/computational-intelligence)  \n",
    "Free for personal or classroom use; see [`LICENSE.md`](https://github.com/squillero/computational-intelligence/blob/master/LICENSE.md) for details.  "
   ]
  },
  {
   "cell_type": "markdown",
   "metadata": {},
   "source": [
    "# LAB9\n",
    "\n",
    "Write a local-search algorithm (eg. an EA) able to solve the *Problem* instances 1, 2, 5, and 10 on a 1000-loci genomes, using a minimum number of fitness calls. That's all.\n",
    "\n",
    "### Deadlines:\n",
    "\n",
    "* Submission: Sunday, December 3 ([CET](https://www.timeanddate.com/time/zones/cet))\n",
    "* Reviews: Sunday, December 10 ([CET](https://www.timeanddate.com/time/zones/cet))\n",
    "\n",
    "Notes:\n",
    "\n",
    "* Reviews will be assigned  on Monday, December 4\n",
    "* You need to commit in order to be selected as a reviewer (ie. better to commit an empty work than not to commit)"
   ]
  },
  {
   "cell_type": "code",
   "execution_count": 64,
   "metadata": {
    "ExecuteTime": {
     "end_time": "2023-12-03T01:22:32.483875Z",
     "start_time": "2023-12-03T01:22:32.454078Z"
    }
   },
   "outputs": [],
   "source": [
    "from random import choices\n",
    "from random import random\n",
    "from random import randint\n",
    "from copy import deepcopy\n",
    "import numpy as np\n",
    "import math\n",
    "\n",
    "import lab9_lib"
   ]
  },
  {
   "cell_type": "markdown",
   "source": [],
   "metadata": {
    "collapsed": false
   }
  },
  {
   "cell_type": "code",
   "execution_count": 65,
   "outputs": [],
   "source": [
    "POP_SIZE = 10\n",
    "PARENT_SIZE = math.ceil(POP_SIZE / 4)\n",
    "GENOME_SIZE = 50\n",
    "PROBLEM_SIZE = 10"
   ],
   "metadata": {
    "collapsed": false,
    "ExecuteTime": {
     "end_time": "2023-12-03T01:22:32.488222Z",
     "start_time": "2023-12-03T01:22:32.459442Z"
    }
   }
  },
  {
   "cell_type": "code",
   "execution_count": 66,
   "outputs": [],
   "source": [
    "class Individual:\n",
    "    genome:list\n",
    "    fitness:float\n",
    "    \n",
    "    def __init__(self, genome:list=None):\n",
    "        if genome is None:\n",
    "            genome = choices([0, 1], k=GENOME_SIZE)     \n",
    "        self.genome=genome\n",
    "        self.fitness=fitness(genome)\n",
    "        pass\n",
    "    \n",
    "    def mutate(self):\n",
    "        child = deepcopy(self)\n",
    "        nbmute:int = math.ceil((random()/self.fitness)*GENOME_SIZE*0.1)\n",
    "        if nbmute > math.ceil(GENOME_SIZE*0.5)-1:\n",
    "            nbmute = math.ceil(GENOME_SIZE*0.5)-1\n",
    "        for i in range(0,nbmute):\n",
    "            child.genome[randint(0,GENOME_SIZE-1)]^=1\n",
    "        child.fitness=fitness(child.genome)\n",
    "        return child\n",
    "\n",
    "    def recomb(self, parent2):\n",
    "        child = deepcopy(self)\n",
    "        rangelswap:int = math.ceil((random()/self.fitness)*GENOME_SIZE*0.1)\n",
    "        if rangelswap > math.ceil(GENOME_SIZE*0.75)-1 :\n",
    "            rangelswap = math.ceil(GENOME_SIZE*0.75)-1\n",
    "        child.genome = child.genome[0:GENOME_SIZE-rangelswap] + parent2.genome[GENOME_SIZE-rangelswap:]\n",
    "        child.fitness=fitness(child.genome)\n",
    "        return child\n",
    "\n",
    "\n",
    "\n",
    "class Parent:\n",
    "    parentList:[Individual]\n",
    "    \n",
    "    def __init__(self,pop:[Individual]=None):\n",
    "        if pop is None:\n",
    "            pop = [Individual() for i in range(0, POP_SIZE)]\n",
    "        self.setParentList(pop)\n",
    "        pass\n",
    "    \n",
    "    def getBestPop(self,pop:[Individual]=None)->[Individual]:\n",
    "        if pop is None:\n",
    "            return self.parentList[0].fitness\n",
    "        return sorted(pop, key=lambda x:x.fitness)[0:PARENT_SIZE]\n",
    "    \n",
    "    def createNewPop(self)->[Individual]:\n",
    "        newpop=[]\n",
    "        newpop.append(self.parentList)\n",
    "        for i in range(len(self.parentList), POP_SIZE):\n",
    "            choosenparent = choices(self.parentList, [j.fitness for j in self.parentList])[0]\n",
    "            newpop.append(\n",
    "                choices(\n",
    "                    [choosenparent.mutate(), choosenparent.recomb(\n",
    "                        choices(\n",
    "                            [j for j in self.parentList if j != choosenparent],\n",
    "                            [j.fitness for j in self.parentList if j != choosenparent])[0])], \n",
    "                    [choosenparent.fitness, 1 - choosenparent.fitness])[0])\n",
    "        return newpop\n",
    "\n",
    "    def setParentList(self, pop:[Individual]):\n",
    "        self.parentList = self.getBestPop(pop)\n",
    "        pass\n",
    "\n"
   ],
   "metadata": {
    "collapsed": false,
    "ExecuteTime": {
     "end_time": "2023-12-03T01:22:32.497418Z",
     "start_time": "2023-12-03T01:22:32.463354Z"
    }
   }
  },
  {
   "cell_type": "code",
   "execution_count": 67,
   "outputs": [
    {
     "ename": "AttributeError",
     "evalue": "'list' object has no attribute 'genome'",
     "output_type": "error",
     "traceback": [
      "\u001B[0;31m---------------------------------------------------------------------------\u001B[0m",
      "\u001B[0;31mAttributeError\u001B[0m                            Traceback (most recent call last)",
      "Cell \u001B[0;32mIn[67], line 6\u001B[0m\n\u001B[1;32m      4\u001B[0m listofparent \u001B[38;5;241m=\u001B[39m Parent(population)\n\u001B[1;32m      5\u001B[0m \u001B[38;5;28;01mwhile\u001B[39;00m listofparent\u001B[38;5;241m.\u001B[39mgetBestPop() \u001B[38;5;241m!=\u001B[39m \u001B[38;5;241m1\u001B[39m:\n\u001B[0;32m----> 6\u001B[0m     population \u001B[38;5;241m=\u001B[39m \u001B[43mlistofparent\u001B[49m\u001B[38;5;241;43m.\u001B[39;49m\u001B[43mcreateNewPop\u001B[49m\u001B[43m(\u001B[49m\u001B[43m)\u001B[49m\n\u001B[1;32m      7\u001B[0m     listofparent\u001B[38;5;241m.\u001B[39msetParentList(population)\n\u001B[1;32m      9\u001B[0m \u001B[38;5;28mprint\u001B[39m(\u001B[38;5;124m\"\u001B[39m\u001B[38;5;124mOK found it\u001B[39m\u001B[38;5;124m\"\u001B[39m)\n",
      "Cell \u001B[0;32mIn[66], line 52\u001B[0m, in \u001B[0;36mParent.createNewPop\u001B[0;34m(self)\u001B[0m\n\u001B[1;32m     50\u001B[0m \u001B[38;5;28;01mfor\u001B[39;00m i \u001B[38;5;129;01min\u001B[39;00m \u001B[38;5;28mrange\u001B[39m(\u001B[38;5;28mlen\u001B[39m(\u001B[38;5;28mself\u001B[39m\u001B[38;5;241m.\u001B[39mparentList), POP_SIZE):\n\u001B[1;32m     51\u001B[0m     choosenparent \u001B[38;5;241m=\u001B[39m choices(\u001B[38;5;28mself\u001B[39m\u001B[38;5;241m.\u001B[39mparentList, [j\u001B[38;5;241m.\u001B[39mfitness \u001B[38;5;28;01mfor\u001B[39;00m j \u001B[38;5;129;01min\u001B[39;00m \u001B[38;5;28mself\u001B[39m\u001B[38;5;241m.\u001B[39mparentList])[\u001B[38;5;241m0\u001B[39m]\n\u001B[0;32m---> 52\u001B[0m     newpop\u001B[38;5;241m.\u001B[39mappend(choices([choosenparent\u001B[38;5;241m.\u001B[39mmutate(), \u001B[43mchoosenparent\u001B[49m\u001B[38;5;241;43m.\u001B[39;49m\u001B[43mrecomb\u001B[49m\u001B[43m(\u001B[49m\u001B[43mchoices\u001B[49m\u001B[43m(\u001B[49m\u001B[43m[\u001B[49m\u001B[43mj\u001B[49m\u001B[43m \u001B[49m\u001B[38;5;28;43;01mfor\u001B[39;49;00m\u001B[43m \u001B[49m\u001B[43mj\u001B[49m\u001B[43m \u001B[49m\u001B[38;5;129;43;01min\u001B[39;49;00m\u001B[43m \u001B[49m\u001B[38;5;28;43mself\u001B[39;49m\u001B[38;5;241;43m.\u001B[39;49m\u001B[43mparentList\u001B[49m\u001B[43m \u001B[49m\u001B[38;5;28;43;01mif\u001B[39;49;00m\u001B[43m \u001B[49m\u001B[43mj\u001B[49m\u001B[43m \u001B[49m\u001B[38;5;241;43m!=\u001B[39;49m\u001B[43m \u001B[49m\u001B[43mchoosenparent\u001B[49m\u001B[43m]\u001B[49m\u001B[43m,\u001B[49m\u001B[43m \u001B[49m\u001B[43m[\u001B[49m\u001B[43mj\u001B[49m\u001B[38;5;241;43m.\u001B[39;49m\u001B[43mfitness\u001B[49m\u001B[43m \u001B[49m\u001B[38;5;28;43;01mfor\u001B[39;49;00m\u001B[43m \u001B[49m\u001B[43mj\u001B[49m\u001B[43m \u001B[49m\u001B[38;5;129;43;01min\u001B[39;49;00m\u001B[43m \u001B[49m\u001B[38;5;28;43mself\u001B[39;49m\u001B[38;5;241;43m.\u001B[39;49m\u001B[43mparentList\u001B[49m\u001B[43m \u001B[49m\u001B[38;5;28;43;01mif\u001B[39;49;00m\u001B[43m \u001B[49m\u001B[43mj\u001B[49m\u001B[43m \u001B[49m\u001B[38;5;241;43m!=\u001B[39;49m\u001B[43m \u001B[49m\u001B[43mchoosenparent\u001B[49m\u001B[43m]\u001B[49m\u001B[43m)\u001B[49m\u001B[43m)\u001B[49m], [choosenparent\u001B[38;5;241m.\u001B[39mfitness, \u001B[38;5;241m1\u001B[39m \u001B[38;5;241m-\u001B[39m choosenparent\u001B[38;5;241m.\u001B[39mfitness])[\u001B[38;5;241m0\u001B[39m])\n\u001B[1;32m     53\u001B[0m \u001B[38;5;28;01mreturn\u001B[39;00m newpop\n",
      "Cell \u001B[0;32mIn[66], line 27\u001B[0m, in \u001B[0;36mIndividual.recomb\u001B[0;34m(self, parent2)\u001B[0m\n\u001B[1;32m     25\u001B[0m \u001B[38;5;28;01mif\u001B[39;00m rangelswap \u001B[38;5;241m>\u001B[39m math\u001B[38;5;241m.\u001B[39mceil(GENOME_SIZE\u001B[38;5;241m*\u001B[39m\u001B[38;5;241m0.75\u001B[39m)\u001B[38;5;241m-\u001B[39m\u001B[38;5;241m1\u001B[39m :\n\u001B[1;32m     26\u001B[0m     rangelswap \u001B[38;5;241m=\u001B[39m math\u001B[38;5;241m.\u001B[39mceil(GENOME_SIZE\u001B[38;5;241m*\u001B[39m\u001B[38;5;241m0.75\u001B[39m)\u001B[38;5;241m-\u001B[39m\u001B[38;5;241m1\u001B[39m\n\u001B[0;32m---> 27\u001B[0m child\u001B[38;5;241m.\u001B[39mgenome \u001B[38;5;241m=\u001B[39m child\u001B[38;5;241m.\u001B[39mgenome[\u001B[38;5;241m0\u001B[39m:GENOME_SIZE\u001B[38;5;241m-\u001B[39mrangelswap] \u001B[38;5;241m+\u001B[39m \u001B[43mparent2\u001B[49m\u001B[38;5;241;43m.\u001B[39;49m\u001B[43mgenome\u001B[49m[GENOME_SIZE\u001B[38;5;241m-\u001B[39mrangelswap:]\n\u001B[1;32m     28\u001B[0m child\u001B[38;5;241m.\u001B[39mfitness\u001B[38;5;241m=\u001B[39mfitness(child\u001B[38;5;241m.\u001B[39mgenome)\n\u001B[1;32m     29\u001B[0m \u001B[38;5;28;01mreturn\u001B[39;00m child\n",
      "\u001B[0;31mAttributeError\u001B[0m: 'list' object has no attribute 'genome'"
     ]
    }
   ],
   "source": [
    "fitness = lab9_lib.make_problem(PROBLEM_SIZE)\n",
    "\n",
    "population = [Individual() for i in range(0, POP_SIZE)]\n",
    "listofparent = Parent(population)\n",
    "while listofparent.getBestPop() != 1:\n",
    "    population = listofparent.createNewPop()\n",
    "    listofparent.setParentList(population)\n",
    "\n",
    "print(\"OK found it\")\n",
    "print(fitness.calls)\n"
   ],
   "metadata": {
    "collapsed": false,
    "ExecuteTime": {
     "end_time": "2023-12-03T01:22:32.509248Z",
     "start_time": "2023-12-03T01:22:32.479512Z"
    }
   }
  }
 ],
 "metadata": {
  "kernelspec": {
   "display_name": "ci-fLJ3OwGs-py3.12",
   "language": "python",
   "name": "python3"
  },
  "language_info": {
   "codemirror_mode": {
    "name": "ipython",
    "version": 3
   },
   "file_extension": ".py",
   "mimetype": "text/x-python",
   "name": "python",
   "nbconvert_exporter": "python",
   "pygments_lexer": "ipython3",
   "version": "3.12.0"
  }
 },
 "nbformat": 4,
 "nbformat_minor": 2
}
